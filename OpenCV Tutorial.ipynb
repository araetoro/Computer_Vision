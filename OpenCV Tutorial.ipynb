{
 "cells": [
  {
   "cell_type": "code",
   "execution_count": 1,
   "id": "07beff57",
   "metadata": {},
   "outputs": [],
   "source": [
    "#importing the libraries\n",
    "import imutils\n",
    "import cv2"
   ]
  },
  {
   "cell_type": "code",
   "execution_count": 2,
   "id": "cddc1897",
   "metadata": {},
   "outputs": [],
   "source": [
    "#importing the image\n",
    "image = cv2.imread('jp.jpg')"
   ]
  },
  {
   "cell_type": "code",
   "execution_count": 3,
   "id": "1aa23c5c",
   "metadata": {},
   "outputs": [
    {
     "name": "stdout",
     "output_type": "stream",
     "text": [
      "width=600, height=384, depth=3\n"
     ]
    }
   ],
   "source": [
    "#printing the shape of the image\n",
    "(h, w, d) = image.shape\n",
    "\n",
    "print(\"width={}, height={}, depth={}\".format(w,h,d))"
   ]
  },
  {
   "cell_type": "code",
   "execution_count": 4,
   "id": "04be678b",
   "metadata": {},
   "outputs": [],
   "source": [
    "# be sure to open the window with the image and press a key to complete this block\n",
    "# cv2.imshow(\"Image\", image)\n",
    "# cv2.waitKey(0)"
   ]
  },
  {
   "cell_type": "code",
   "execution_count": 5,
   "id": "be55d26d",
   "metadata": {},
   "outputs": [
    {
     "name": "stdout",
     "output_type": "stream",
     "text": [
      "R=27, G=18, B=19\n"
     ]
    }
   ],
   "source": [
    "#printing the color of a spesific pixel located at y=100,x=50\n",
    "(B, G, R) = image[100,50]\n",
    "print(\"R={}, G={}, B={}\".format(R, G, B))"
   ]
  },
  {
   "cell_type": "markdown",
   "id": "b9811693",
   "metadata": {},
   "source": [
    "# Array Slicing "
   ]
  },
  {
   "cell_type": "code",
   "execution_count": 6,
   "id": "f4b9848b",
   "metadata": {},
   "outputs": [
    {
     "data": {
      "text/plain": [
       "52"
      ]
     },
     "execution_count": 6,
     "metadata": {},
     "output_type": "execute_result"
    }
   ],
   "source": [
    "#extract a 100x100 pixel square ROI (Region of Interest)\n",
    "# roi = image[60:160, 320:420]\n",
    "# cv2.imshow(\"ROI\", roi)\n",
    "# cv2.waitKey(0)"
   ]
  },
  {
   "cell_type": "markdown",
   "id": "799b673e",
   "metadata": {},
   "source": [
    "# Resizing Images"
   ]
  },
  {
   "cell_type": "code",
   "execution_count": 7,
   "id": "e39f1b48",
   "metadata": {},
   "outputs": [
    {
     "data": {
      "text/plain": [
       "52"
      ]
     },
     "execution_count": 7,
     "metadata": {},
     "output_type": "execute_result"
    }
   ],
   "source": [
    "#resizing the image to 200X200px without keeping the aspect ratio\n",
    "resized = cv2.resize(image, (200,200))\n",
    "cv2.imshow(\"Fixed Resizing\", resized)\n",
    "cv2.waitKey(0)"
   ]
  },
  {
   "cell_type": "code",
   "execution_count": 9,
   "id": "2ad7cff4",
   "metadata": {},
   "outputs": [
    {
     "data": {
      "text/plain": [
       "52"
      ]
     },
     "execution_count": 9,
     "metadata": {},
     "output_type": "execute_result"
    }
   ],
   "source": [
    "#resizing the image to 300px wide with keeping the aspect ratio\n",
    "r = 300.0 / w\n",
    "dim = (300, int(h*r))\n",
    "resized = cv2.resize(image, dim)\n",
    "cv2.imshow(\"Aspect Ratio Resized\", resized)\n",
    "cv2.waitKey(0)"
   ]
  },
  {
   "cell_type": "code",
   "execution_count": 10,
   "id": "da776203",
   "metadata": {},
   "outputs": [
    {
     "data": {
      "text/plain": [
       "52"
      ]
     },
     "execution_count": 10,
     "metadata": {},
     "output_type": "execute_result"
    }
   ],
   "source": [
    "#resozong an image using imutils\n",
    "resized = imutils.resize(image, width=300)\n",
    "cv2.imshow(\"Imutils, Resized\", resized)\n",
    "cv2.waitKey(0)"
   ]
  },
  {
   "cell_type": "markdown",
   "id": "acd26b8e",
   "metadata": {},
   "source": [
    "# Rotating and Image"
   ]
  },
  {
   "cell_type": "code",
   "execution_count": null,
   "id": "61de1f7d",
   "metadata": {},
   "outputs": [],
   "source": []
  }
 ],
 "metadata": {
  "kernelspec": {
   "display_name": "Python 3",
   "language": "python",
   "name": "python3"
  },
  "language_info": {
   "codemirror_mode": {
    "name": "ipython",
    "version": 3
   },
   "file_extension": ".py",
   "mimetype": "text/x-python",
   "name": "python",
   "nbconvert_exporter": "python",
   "pygments_lexer": "ipython3",
   "version": "3.8.8"
  }
 },
 "nbformat": 4,
 "nbformat_minor": 5
}
