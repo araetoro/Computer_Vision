{
 "cells": [
  {
   "cell_type": "code",
   "execution_count": 1,
   "id": "07beff57",
   "metadata": {},
   "outputs": [],
   "source": [
    "#importing the libraries\n",
    "import imutils\n",
    "import cv2"
   ]
  },
  {
   "cell_type": "code",
   "execution_count": 2,
   "id": "cddc1897",
   "metadata": {},
   "outputs": [],
   "source": [
    "#importing the image\n",
    "image = cv2.imread('jp.jpg')"
   ]
  },
  {
   "cell_type": "code",
   "execution_count": 3,
   "id": "1aa23c5c",
   "metadata": {},
   "outputs": [
    {
     "name": "stdout",
     "output_type": "stream",
     "text": [
      "width=600, height=384, depth=3\n"
     ]
    }
   ],
   "source": [
    "#printing the shape of the image\n",
    "(h, w, d) = image.shape\n",
    "\n",
    "print(\"width={}, height={}, depth={}\".format(w,h,d))"
   ]
  },
  {
   "cell_type": "code",
   "execution_count": 4,
   "id": "04be678b",
   "metadata": {},
   "outputs": [],
   "source": [
    "# be sure to open the window with the image and press a key to complete this block\n",
    "# cv2.imshow(\"Image\", image)\n",
    "# cv2.waitKey(0)"
   ]
  },
  {
   "cell_type": "code",
   "execution_count": 5,
   "id": "be55d26d",
   "metadata": {},
   "outputs": [
    {
     "name": "stdout",
     "output_type": "stream",
     "text": [
      "R=27, G=18, B=19\n"
     ]
    }
   ],
   "source": [
    "#printing the color of a spesific pixel located at y=100,x=50\n",
    "(B, G, R) = image[100,50]\n",
    "print(\"R={}, G={}, B={}\".format(R, G, B))"
   ]
  },
  {
   "cell_type": "markdown",
   "id": "b9811693",
   "metadata": {},
   "source": [
    "# Array Slicing "
   ]
  },
  {
   "cell_type": "code",
   "execution_count": 6,
   "id": "f4b9848b",
   "metadata": {},
   "outputs": [],
   "source": [
    "#extract a 100x100 pixel square ROI (Region of Interest)\n",
    "# roi = image[60:160, 320:420]\n",
    "# cv2.imshow(\"ROI\", roi)\n",
    "# cv2.waitKey(0)"
   ]
  },
  {
   "cell_type": "markdown",
   "id": "799b673e",
   "metadata": {},
   "source": [
    "# Resizing Images"
   ]
  },
  {
   "cell_type": "code",
   "execution_count": 7,
   "id": "e39f1b48",
   "metadata": {},
   "outputs": [
    {
     "data": {
      "text/plain": [
       "0"
      ]
     },
     "execution_count": 7,
     "metadata": {},
     "output_type": "execute_result"
    }
   ],
   "source": [
    "#resizing the image to 200X200px without keeping the aspect ratio\n",
    "resized = cv2.resize(image, (200,200))\n",
    "cv2.imshow(\"Fixed Resizing\", resized)\n",
    "cv2.waitKey(0)"
   ]
  },
  {
   "cell_type": "code",
   "execution_count": 8,
   "id": "2ad7cff4",
   "metadata": {},
   "outputs": [
    {
     "data": {
      "text/plain": [
       "0"
      ]
     },
     "execution_count": 8,
     "metadata": {},
     "output_type": "execute_result"
    }
   ],
   "source": [
    "#resizing the image to 300px wide with keeping the aspect ratio\n",
    "r = 300.0 / w\n",
    "dim = (300, int(h*r))\n",
    "resized = cv2.resize(image, dim)\n",
    "cv2.imshow(\"Aspect Ratio Resized\", resized)\n",
    "cv2.waitKey(0)"
   ]
  },
  {
   "cell_type": "code",
   "execution_count": 9,
   "id": "da776203",
   "metadata": {},
   "outputs": [
    {
     "data": {
      "text/plain": [
       "0"
      ]
     },
     "execution_count": 9,
     "metadata": {},
     "output_type": "execute_result"
    }
   ],
   "source": [
    "#resozong an image using imutils\n",
    "resized = imutils.resize(image, width=300)\n",
    "cv2.imshow(\"Imutils, Resized\", resized)\n",
    "cv2.waitKey(0)"
   ]
  },
  {
   "cell_type": "markdown",
   "id": "acd26b8e",
   "metadata": {},
   "source": [
    "# Rotating and Image"
   ]
  },
  {
   "cell_type": "code",
   "execution_count": 12,
   "id": "61de1f7d",
   "metadata": {},
   "outputs": [
    {
     "data": {
      "text/plain": [
       "0"
      ]
     },
     "execution_count": 12,
     "metadata": {},
     "output_type": "execute_result"
    }
   ],
   "source": [
    "#rotate image 45 degrees\n",
    "#computing the image center then constructing the rotation matrix\n",
    "#then applying the affine warp\n",
    "\n",
    "# // is to apply integer math, no float values\n",
    "#positive angles are counterclockwise and negative angles are clockwise\n",
    "\n",
    "center = (w//2, h//2)\n",
    "M = cv2.getRotationMatrix2D(center, -45, 1.0)\n",
    "rotated = cv2.warpAffine(image, M, (w,h))\n",
    "cv2.imshow(\"OenCV Rotation\", rotated)\n",
    "cv2.waitKey(0)"
   ]
  },
  {
   "cell_type": "code",
   "execution_count": 15,
   "id": "d55636d0",
   "metadata": {},
   "outputs": [
    {
     "data": {
      "text/plain": [
       "102"
      ]
     },
     "execution_count": 15,
     "metadata": {},
     "output_type": "execute_result"
    }
   ],
   "source": [
    "# rotation with imutils\n",
    "rotated = imutils.rotate(image, -45)\n",
    "cv2.imshow(\"Imutils Rotation\", rotated)\n",
    "cv2.waitKey(0)"
   ]
  },
  {
   "cell_type": "code",
   "execution_count": 18,
   "id": "8fddd31f",
   "metadata": {},
   "outputs": [
    {
     "data": {
      "text/plain": [
       "115"
      ]
     },
     "execution_count": 18,
     "metadata": {},
     "output_type": "execute_result"
    }
   ],
   "source": [
    "# rotate and keep edges \n",
    "rotated = imutils.rotate_bound(image, 45)\n",
    "cv2.imshow(\"Imutils Bound Rotation\", rotated)\n",
    "cv2.imshow(\"Imutils Bound Rotation\", rotated)\n",
    "cv2.waitKey(0)"
   ]
  },
  {
   "cell_type": "markdown",
   "id": "bf88c868",
   "metadata": {},
   "source": [
    "# Smoothing an Image"
   ]
  },
  {
   "cell_type": "code",
   "execution_count": 19,
   "id": "992f2ef3",
   "metadata": {},
   "outputs": [],
   "source": [
    "#smoothing to remove noise and help our algorithms to focus on the content not the noise"
   ]
  },
  {
   "cell_type": "code",
   "execution_count": 20,
   "id": "8d6c4870",
   "metadata": {},
   "outputs": [
    {
     "data": {
      "text/plain": [
       "100"
      ]
     },
     "execution_count": 20,
     "metadata": {},
     "output_type": "execute_result"
    }
   ],
   "source": [
    "#Apply a Gaussian blur with a 11x11 kernel to smooth image\n",
    "#useful for reducing high frequency noise\n",
    "blurred = cv2.GaussianBlur(image, (11,11), 0)\n",
    "cv2.imshow(\"Blurred\", blurred)\n",
    "cv2.waitKey(0)"
   ]
  },
  {
   "cell_type": "code",
   "execution_count": 21,
   "id": "36c1acae",
   "metadata": {},
   "outputs": [],
   "source": [
    "#smaller kernel is less blurred larger kernal is more blurred \n",
    "# read more here: https://www.pyimagesearch.com/2016/07/25/convolutions-with-opencv-and-python/"
   ]
  },
  {
   "cell_type": "markdown",
   "id": "175f93b2",
   "metadata": {},
   "source": [
    "# Drawing on an Image"
   ]
  },
  {
   "cell_type": "code",
   "execution_count": 22,
   "id": "139041eb",
   "metadata": {},
   "outputs": [
    {
     "data": {
      "text/plain": [
       "100"
      ]
     },
     "execution_count": 22,
     "metadata": {},
     "output_type": "execute_result"
    }
   ],
   "source": [
    "#draw a 2px thick read rectangle surrounding the face\n",
    "# we copy the image so that we do not draw on the original \n",
    "output = image.copy()\n",
    "cv2.rectangle(output, (320,60), (420,160), (0,0,255),2)\n",
    "cv2.imshow(\"Rectangle\", output)\n",
    "cv2.waitKey(0)"
   ]
  },
  {
   "cell_type": "code",
   "execution_count": 24,
   "id": "6da9dfd1",
   "metadata": {},
   "outputs": [
    {
     "data": {
      "text/plain": [
       "100"
      ]
     },
     "execution_count": 24,
     "metadata": {},
     "output_type": "execute_result"
    }
   ],
   "source": [
    "#draw a blue 20px (filled in) circle on the impage centered at x=300 y=150\n",
    "# -1 fopr the thickness will fill in the circle\n",
    "output = image.copy()\n",
    "cv2.circle(output, (300, 150), 20, (255,0,0), -1)\n",
    "cv2.imshow(\"Circle\", output)\n",
    "cv2.waitKey(0)"
   ]
  },
  {
   "cell_type": "code",
   "execution_count": 25,
   "id": "c7cee05c",
   "metadata": {},
   "outputs": [
    {
     "data": {
      "text/plain": [
       "115"
      ]
     },
     "execution_count": 25,
     "metadata": {},
     "output_type": "execute_result"
    }
   ],
   "source": [
    "#draw a 5px thick red line from x=60, y=20 to x=400, y=200\n",
    "output= image.copy()\n",
    "cv2.line(output, (60,20), (400, 200), (0,0, 255), 5)\n",
    "cv2.imshow(\"Line\", output)\n",
    "cv2.waitKey(0)"
   ]
  },
  {
   "cell_type": "code",
   "execution_count": 27,
   "id": "9a2669f7",
   "metadata": {},
   "outputs": [
    {
     "data": {
      "text/plain": [
       "117"
      ]
     },
     "execution_count": 27,
     "metadata": {},
     "output_type": "execute_result"
    }
   ],
   "source": [
    "#draw green text on the image\n",
    "output = image.copy()\n",
    "cv2.putText(output, \"OPenCv + Jurassic Park!!\", (10,25),\n",
    "           cv2.FONT_HERSHEY_SIMPLEX, 0.7, (0,255,0), 2)\n",
    "cv2.imshow(\"Text\", output)\n",
    "cv2.waitKey(0)"
   ]
  },
  {
   "cell_type": "code",
   "execution_count": 28,
   "id": "f4351145",
   "metadata": {},
   "outputs": [],
   "source": [
    "# Fonts List https://docs.opencv.org/3.4.1/d0/de1/group__core.html#ga0f9314ea6e35f99bb23f29567fc16e11"
   ]
  },
  {
   "cell_type": "markdown",
   "id": "4b2e6bdb",
   "metadata": {},
   "source": [
    "# Counting Objects"
   ]
  },
  {
   "cell_type": "code",
   "execution_count": null,
   "id": "acbf354f",
   "metadata": {},
   "outputs": [],
   "source": []
  }
 ],
 "metadata": {
  "kernelspec": {
   "display_name": "Python 3",
   "language": "python",
   "name": "python3"
  },
  "language_info": {
   "codemirror_mode": {
    "name": "ipython",
    "version": 3
   },
   "file_extension": ".py",
   "mimetype": "text/x-python",
   "name": "python",
   "nbconvert_exporter": "python",
   "pygments_lexer": "ipython3",
   "version": "3.8.8"
  }
 },
 "nbformat": 4,
 "nbformat_minor": 5
}
